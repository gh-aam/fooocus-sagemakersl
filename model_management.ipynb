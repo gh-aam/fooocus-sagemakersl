{
  "metadata": {
    "kernelspec": {
      "name": "python",
      "display_name": "Python (Pyodide)",
      "language": "python"
    },
    "language_info": {
      "codemirror_mode": {
        "name": "python",
        "version": 3
      },
      "file_extension": ".py",
      "mimetype": "text/x-python",
      "name": "python",
      "nbconvert_exporter": "python",
      "pygments_lexer": "ipython3",
      "version": "3.8"
    }
  },
  "nbformat_minor": 5,
  "nbformat": 4,
  "cells": [
    {
      "id": "97a9bede-c97f-4aa1-a3f7-9e4624690b3b",
      "cell_type": "code",
      "source": "# initializing variables\n\nfrom os import getcwd\nfrom os import path\n\nHOME_FOLDER = getcwd()\nprint(\"HOME_FOLDER = \" + HOME_FOLDER)\n\nTEMP_FOLDER = '/tmp'\nCKPT_FOLDER = f'{HOME_FOLDER}/Fooocus/models/checkpoints-real-folder'\nLORA_FOLDER = f'{HOME_FOLDER}/Fooocus/models/loras'\n\nprint(\"CKPT_FOLDER = \" + CKPT_FOLDER)\nprint(\"LORA_FOLDER = \" + LORA_FOLDER)\n\nprint('Done!')",
      "metadata": {
        "tags": []
      },
      "outputs": [],
      "execution_count": null
    },
    {
      "id": "5cb305c6-fb97-4598-8454-12dea316baea",
      "cell_type": "code",
      "source": "# cleaning up corrupted files\n\n!rm -rf $CKPT_FOLDER/*.corrupted\n!rm -rf $HOME_FOLDER/Fooocus/*.corrupted",
      "metadata": {
        "tags": []
      },
      "outputs": [],
      "execution_count": null
    },
    {
      "id": "1c2fba7e-3ea7-4978-8b9e-ae0ac94e4788",
      "cell_type": "code",
      "source": "# checkpoint (persistent)\n\nmodel_url = 'https://civitai.com/api/download/models/169740'\nmodel_name = 'ZavyChroma.safetensors'\n\nget_ipython().system(f'wget -O \"{CKPT_FOLDER}/{model_name}\" \"{model_url}\"')",
      "metadata": {
        "tags": []
      },
      "outputs": [],
      "execution_count": null
    },
    {
      "id": "abd99414-69c7-4454-8786-e54a49869e10",
      "cell_type": "code",
      "source": "# checkpoint (temporary)\n\nmodel_url = 'https://civitai.com/api/download/models/275681'\nmodel_name = 'OpenDalle.safetensors'\n\nif not path.exists(f'{CKPT_FOLDER}/{model_name}'):\n    get_ipython().system(f'wget -O \"{TEMP_FOLDER}/{model_name}\" \"{model_url}\"')\n    get_ipython().system(f'ln -s {TEMP_FOLDER}/{model_name} {CKPT_FOLDER}/')\nelse:\n    print(f'The file {CKPT_FOLDER}/{model_name} already exists')",
      "metadata": {
        "tags": []
      },
      "outputs": [],
      "execution_count": null
    },
    {
      "id": "fc5f2740-159a-4da4-ac62-0bdea0efb1c3",
      "cell_type": "code",
      "source": "# LoRA (persistent)\n\nmodel_url = 'https://civitai.com/api/download/models/137124'\nmodel_name = 'DreamArt.safetensors'\n\nget_ipython().system(f'wget -O \"{LORA_FOLDER}/{model_name}\" \"{model_url}\"')",
      "metadata": {
        "tags": []
      },
      "outputs": [],
      "execution_count": null
    },
    {
      "id": "6dad024a-8411-4435-9504-d32675d0d286",
      "cell_type": "code",
      "source": "# LoRA (temporary)\n\nmodel_url = 'https://civitai.com/api/download/models/152309'\nmodel_name = 'xl_more_art-full.safetensors'\n\nif not path.exists(f'{LORA_FOLDER}/{model_name}'):\n    get_ipython().system(f'wget -O \"{TEMP_FOLDER}/{model_name}\" \"{model_url}\"')\n    get_ipython().system(f'ln -s {TEMP_FOLDER}/{model_name} {LORA_FOLDER}/')\nelse:\n    print(f'The file {LORA_FOLDER}/{model_name} already exists')",
      "metadata": {
        "tags": []
      },
      "outputs": [],
      "execution_count": null
    },
    {
      "id": "dd34d42e-dbc5-4b6f-8241-0511a6ff2f0f",
      "cell_type": "code",
      "source": "# deleting simlinks to temporary models\n\nget_ipython().system(f'find {CKPT_FOLDER} -maxdepth 1 -type l -delete')\nget_ipython().system(f'find {LORA_FOLDER} -maxdepth 1 -type l -delete')",
      "metadata": {},
      "outputs": [],
      "execution_count": null
    },
    {
      "id": "9ebfb46f-3e52-4526-890f-9a0b41ff80ef",
      "cell_type": "code",
      "source": "# finding large files in permanent storage\n\n!find ~ -size +1G",
      "metadata": {
        "tags": []
      },
      "outputs": [],
      "execution_count": null
    }
  ]
}
